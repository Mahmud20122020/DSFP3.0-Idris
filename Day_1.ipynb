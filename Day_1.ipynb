{
 "cells": [
  {
   "cell_type": "code",
   "execution_count": 1,
   "id": "13f330a8",
   "metadata": {},
   "outputs": [
    {
     "name": "stdout",
     "output_type": "stream",
     "text": [
      "I am a data scientist\n"
     ]
    }
   ],
   "source": [
    "print(\"I am a data scientist\")"
   ]
  },
  {
   "cell_type": "code",
   "execution_count": 2,
   "id": "1920d9cd",
   "metadata": {},
   "outputs": [
    {
     "name": "stdout",
     "output_type": "stream",
     "text": [
      "3.11.4 | packaged by Anaconda, Inc. | (main, Jul  5 2023, 13:38:37) [MSC v.1916 64 bit (AMD64)]\n"
     ]
    }
   ],
   "source": [
    "import sys\n",
    "print(sys.version)"
   ]
  },
  {
   "cell_type": "code",
   "execution_count": 3,
   "id": "7f790c07",
   "metadata": {},
   "outputs": [
    {
     "name": "stdout",
     "output_type": "stream",
     "text": [
      "Idris Mahmud\n"
     ]
    }
   ],
   "source": [
    "def frint(output):\n",
    "    print(output)\n",
    "print(\"Idris Mahmud\")"
   ]
  },
  {
   "cell_type": "code",
   "execution_count": 4,
   "id": "93f353bb",
   "metadata": {},
   "outputs": [
    {
     "data": {
      "text/plain": [
       "'IDRIS'"
      ]
     },
     "execution_count": 4,
     "metadata": {},
     "output_type": "execute_result"
    }
   ],
   "source": [
    "type(12)\n",
    "type(\"Idris\")\n",
    "\"Idris\".upper()"
   ]
  },
  {
   "cell_type": "code",
   "execution_count": 5,
   "id": "4c1dd505",
   "metadata": {},
   "outputs": [
    {
     "data": {
      "text/plain": [
       "3"
      ]
     },
     "execution_count": 5,
     "metadata": {},
     "output_type": "execute_result"
    }
   ],
   "source": [
    "int(3.14)"
   ]
  },
  {
   "cell_type": "code",
   "execution_count": 6,
   "id": "ead31537",
   "metadata": {},
   "outputs": [
    {
     "name": "stdout",
     "output_type": "stream",
     "text": [
      "3.3333333333333335\n"
     ]
    }
   ],
   "source": [
    "# Class Task\n",
    "a = 2\n",
    "b = 4\n",
    "print((a+2*b)/3)"
   ]
  },
  {
   "cell_type": "code",
   "execution_count": 7,
   "id": "0f5e7497",
   "metadata": {},
   "outputs": [
    {
     "name": "stdout",
     "output_type": "stream",
     "text": [
      "[43, 'Female', 2.78]\n",
      "2.78\n",
      "My name is Safiya, I am 43 years old and my height is 2.78cm\n"
     ]
    }
   ],
   "source": [
    "Safiya = [43,\"Female\",2.78]\n",
    "type(Safiya)\n",
    "print(Safiya)\n",
    "print(Safiya[-1])\n",
    "\n",
    "print(\"My name is Safiya, I am {} years old and my height is {}cm\".format(Safiya[0],Safiya[2]))\n",
    "\n",
    "# MY name is Safiya, I'm 43 years old and my height is 2.78cm"
   ]
  },
  {
   "cell_type": "code",
   "execution_count": 8,
   "id": "73cf9851",
   "metadata": {},
   "outputs": [
    {
     "name": "stdout",
     "output_type": "stream",
     "text": [
      "ny Ad\n"
     ]
    }
   ],
   "source": [
    "# retrieving the first five elements\n",
    "s = \"Sunny Ade\"\n",
    "print(s[3:8])"
   ]
  },
  {
   "cell_type": "code",
   "execution_count": 9,
   "id": "aea15f09",
   "metadata": {},
   "outputs": [
    {
     "name": "stdout",
     "output_type": "stream",
     "text": [
      "IdrisIdris\n"
     ]
    }
   ],
   "source": [
    "print(\"Idris\"*2)"
   ]
  },
  {
   "cell_type": "code",
   "execution_count": 10,
   "id": "c04df3f9",
   "metadata": {},
   "outputs": [
    {
     "data": {
      "text/plain": [
       "12"
      ]
     },
     "execution_count": 10,
     "metadata": {},
     "output_type": "execute_result"
    }
   ],
   "source": [
    "# Creating a new function\n",
    "def area_rectangle(l,b):\n",
    "    area = l*b\n",
    "    return area\n",
    "area_rectangle(3,4)"
   ]
  },
  {
   "cell_type": "code",
   "execution_count": 11,
   "id": "1dca7700",
   "metadata": {},
   "outputs": [
    {
     "data": {
      "text/plain": [
       "4.5"
      ]
     },
     "execution_count": 11,
     "metadata": {},
     "output_type": "execute_result"
    }
   ],
   "source": [
    "def avg(a,b):\n",
    "    average = (a+b)/2\n",
    "    return average\n",
    "avg(3,6)"
   ]
  },
  {
   "cell_type": "code",
   "execution_count": 12,
   "id": "0ef14f59",
   "metadata": {},
   "outputs": [
    {
     "data": {
      "text/plain": [
       "19"
      ]
     },
     "execution_count": 12,
     "metadata": {},
     "output_type": "execute_result"
    }
   ],
   "source": [
    "int(avg(32,6))"
   ]
  },
  {
   "cell_type": "code",
   "execution_count": 14,
   "id": "5a0a2cbe",
   "metadata": {},
   "outputs": [],
   "source": [
    "# function to find if a ends in tion"
   ]
  },
  {
   "cell_type": "code",
   "execution_count": 17,
   "id": "32668a3c",
   "metadata": {},
   "outputs": [
    {
     "name": "stdout",
     "output_type": "stream",
     "text": [
      "Hadoop is a powerful open-source framework designed to manage and process large volumes of data across clusters of computers. Its fundamental function lies in addressing the challenges posed by big data, which encompasses massive amounts of information that traditional systems struggle to handle efficiently.\n",
      "One key element of Hadoop is its distributed file system, known as HDFS (Hadoop Distributed File System). HDFS divides data into smaller chunks, replicates and distributes these across multiple machines within a cluster. This distribution enables parallel processing, allowing for faster data retrieval and analysis.\n",
      "\n"
     ]
    }
   ],
   "source": [
    "blog = \"\"\"Hadoop is a powerful open-source framework designed to manage and process large volumes of data across clusters of computers. Its fundamental function lies in addressing the challenges posed by big data, which encompasses massive amounts of information that traditional systems struggle to handle efficiently.\n",
    "One key element of Hadoop is its distributed file system, known as HDFS (Hadoop Distributed File System). HDFS divides data into smaller chunks, replicates and distributes these across multiple machines within a cluster. This distribution enables parallel processing, allowing for faster data retrieval and analysis.\n",
    "\"\"\"\n",
    "print(blog)"
   ]
  },
  {
   "cell_type": "code",
   "execution_count": 24,
   "id": "4ef700b8",
   "metadata": {},
   "outputs": [
    {
     "name": "stdout",
     "output_type": "stream",
     "text": [
      "['Hadoop', 'is', 'a', 'powerful', 'open-source', 'framework', 'designed', 'to', 'manage', 'and', 'process', 'large', 'volumes', 'of', 'data', 'across', 'clusters', 'of', 'computers.', 'Its', 'fundamental', 'function', 'lies', 'in', 'addressing', 'the', 'challenges', 'posed', 'by', 'big', 'data,', 'which', 'encompasses', 'massive', 'amounts', 'of', 'information', 'that', 'traditional', 'systems', 'struggle', 'to', 'handle', 'efficiently.\\nOne', 'key', 'element', 'of', 'Hadoop', 'is', 'its', 'distributed', 'file', 'system,', 'known', 'as', 'HDFS', '(Hadoop', 'Distributed', 'File', 'System).', 'HDFS', 'divides', 'data', 'into', 'smaller', 'chunks,', 'replicates', 'and', 'distributes', 'these', 'across', 'multiple', 'machines', 'within', 'a', 'cluster.', 'This', 'distribution', 'enables', 'parallel', 'processing,', 'allowing', 'for', 'faster', 'data', 'retrieval', 'and', 'analysis.\\n']\n"
     ]
    }
   ],
   "source": [
    "word_list = blog.split(\" \")\n",
    "print(word_list)"
   ]
  },
  {
   "cell_type": "code",
   "execution_count": null,
   "id": "d00c1e3b",
   "metadata": {},
   "outputs": [],
   "source": [
    "counter = 0\n",
    "for word in word_list:\n",
    "    if word.endswith(\"tion\")==True:\n",
    "        counter = counter+1\n",
    "        \n",
    "print(counter)"
   ]
  },
  {
   "cell_type": "code",
   "execution_count": null,
   "id": "9219cfd6",
   "metadata": {},
   "outputs": [],
   "source": [
    "max =20\n",
    "for i in range(1,max+1):\n",
    "    if i % 2 == 0:\n",
    "        print(i)"
   ]
  },
  {
   "cell_type": "code",
   "execution_count": null,
   "id": "adf4d370",
   "metadata": {},
   "outputs": [],
   "source": [
    "max =20\n",
    "for i in range(1,max+1):\n",
    "    if i % 2 == 1:\n",
    "        print(i)"
   ]
  },
  {
   "cell_type": "code",
   "execution_count": null,
   "id": "1b6f6174",
   "metadata": {},
   "outputs": [],
   "source": [
    "max = 10\n",
    "sum = 0\n",
    "for num in range(1,max+1):\n",
    "    sum = sum + num\n",
    "    print(sum)"
   ]
  },
  {
   "cell_type": "code",
   "execution_count": null,
   "id": "acf8051e",
   "metadata": {},
   "outputs": [],
   "source": [
    "max = 20\n",
    "multiplication = 1\n",
    "for num in range(1,max+1):\n",
    "    multiplication = multiplication * num\n",
    "    print(multiplication)"
   ]
  },
  {
   "cell_type": "code",
   "execution_count": null,
   "id": "7dac6d6f",
   "metadata": {},
   "outputs": [],
   "source": [
    "number = 1234567\n",
    "len(str(number))"
   ]
  },
  {
   "cell_type": "code",
   "execution_count": null,
   "id": "075e9e2d",
   "metadata": {},
   "outputs": [],
   "source": [
    "number = \"abd23ced\"\n",
    "print(\"\"\"alphs: 6\n",
    "num: 2\"\"\")"
   ]
  },
  {
   "cell_type": "code",
   "execution_count": null,
   "id": "2a901812",
   "metadata": {},
   "outputs": [],
   "source": [
    "## Write a python program that counts the number of alphabets and integers in a string\n",
    "idris = \"idris1989male\"\n",
    "len(idris)\n",
    "idris.split(\" \")"
   ]
  },
  {
   "cell_type": "code",
   "execution_count": null,
   "id": "1b79879b",
   "metadata": {},
   "outputs": [],
   "source": [
    "for i in range(1,10,2):\n",
    "    print(\"Our value is \",i)"
   ]
  },
  {
   "cell_type": "code",
   "execution_count": 97,
   "id": "8ee7fe02",
   "metadata": {},
   "outputs": [
    {
     "name": "stdout",
     "output_type": "stream",
     "text": [
      "The factorial of 5 is  5040\n"
     ]
    }
   ],
   "source": [
    "fac = 7\n",
    "factorial = 1\n",
    "for i in range(1,fac+1):\n",
    "    factorial = factorial*i\n",
    "print(\"The factorial of 5 is \",factorial)\n",
    "    "
   ]
  },
  {
   "cell_type": "code",
   "execution_count": 26,
   "id": "0b2f8f38",
   "metadata": {},
   "outputs": [
    {
     "name": "stdout",
     "output_type": "stream",
     "text": [
      "M\n",
      "y\n",
      " \n",
      "n\n",
      "a\n",
      "m\n",
      "e\n",
      " \n",
      "i\n",
      "s\n",
      " \n",
      "K\n",
      "h\n",
      "a\n",
      "n\n"
     ]
    }
   ],
   "source": [
    "idris = \"My name is Khan\"\n",
    "for i in idris:\n",
    "    print(i)"
   ]
  },
  {
   "cell_type": "code",
   "execution_count": 33,
   "id": "791dee46",
   "metadata": {},
   "outputs": [
    {
     "name": "stdout",
     "output_type": "stream",
     "text": [
      "0\n",
      "2\n",
      "4\n",
      "6\n",
      "8\n",
      "10\n"
     ]
    }
   ],
   "source": [
    "for i in range(0,11,2):\n",
    "    print(i)"
   ]
  },
  {
   "cell_type": "code",
   "execution_count": 44,
   "id": "df144790",
   "metadata": {},
   "outputs": [
    {
     "name": "stdout",
     "output_type": "stream",
     "text": [
      "s\n",
      "d\n",
      "a\n",
      "a\n",
      "n\n",
      "u\n"
     ]
    }
   ],
   "source": [
    "f= [\"Idris\",\"Mahmud\",\"Safiya\",\"Amina\",\"John\",\"Asmau\"]\n",
    "for i in f:\n",
    "    print(i[-1])"
   ]
  },
  {
   "cell_type": "code",
   "execution_count": 50,
   "id": "e35e679c",
   "metadata": {},
   "outputs": [
    {
     "name": "stdout",
     "output_type": "stream",
     "text": [
      "Idris\n",
      "Male\n"
     ]
    }
   ],
   "source": [
    "b = {\"Idris\",\"Male\"}\n",
    "for i in b:\n",
    "    print(i)"
   ]
  },
  {
   "cell_type": "code",
   "execution_count": 56,
   "id": "62d359e4",
   "metadata": {},
   "outputs": [
    {
     "name": "stdout",
     "output_type": "stream",
     "text": [
      "Name Mahmud Asmau\n",
      "Sex M F\n",
      "Age 34 26\n",
      "Height 37.9 34.6\n"
     ]
    }
   ],
   "source": [
    "var = [\"Name\",\"Sex\",\"Age\",\"Height\"]\n",
    "obs1 = [\"Mahmud\",\"M\",34,37.9]\n",
    "obs2 = [\"Asmau\",\"F\",26,34.6]\n",
    "for i,j,k in zip(var,obs1,obs2):\n",
    "    print(i,j,k)"
   ]
  },
  {
   "cell_type": "code",
   "execution_count": 61,
   "id": "1ab76d35",
   "metadata": {},
   "outputs": [
    {
     "name": "stdout",
     "output_type": "stream",
     "text": [
      "Name\n",
      "Sex\n",
      "Age\n",
      "Height\n",
      "Done\n"
     ]
    }
   ],
   "source": [
    "var = [\"Name\",\"Sex\",\"Age\",\"Height\"]\n",
    "for i in var:\n",
    "    print(i)\n",
    "else:\n",
    "    print(\"Done\")"
   ]
  },
  {
   "cell_type": "code",
   "execution_count": 66,
   "id": "e1ec6030",
   "metadata": {},
   "outputs": [
    {
     "name": "stdout",
     "output_type": "stream",
     "text": [
      "Name 10\n",
      "Name 15\n",
      "Name 20\n",
      "Name 25\n",
      "Name 30\n",
      "Sex 10\n",
      "Sex 15\n",
      "Sex 20\n",
      "Sex 25\n",
      "Sex 30\n",
      "Age 10\n",
      "Age 15\n",
      "Age 20\n",
      "Age 25\n",
      "Age 30\n",
      "Height 10\n",
      "Height 15\n",
      "Height 20\n",
      "Height 25\n",
      "Height 30\n"
     ]
    }
   ],
   "source": [
    "var = [\"Name\",\"Sex\",\"Age\",\"Height\"]\n",
    "val = [10,15,20,25,30]\n",
    "for i in var:\n",
    "    for j in val:\n",
    "        print(i,j)"
   ]
  },
  {
   "cell_type": "code",
   "execution_count": 78,
   "id": "9eac2c84",
   "metadata": {},
   "outputs": [
    {
     "name": "stdout",
     "output_type": "stream",
     "text": [
      "Name\n",
      "Sex\n",
      "Age\n"
     ]
    }
   ],
   "source": [
    "var = [\"Name\",\"Sex\",\"Age\",\"Height\"]\n",
    "for i in var:\n",
    "    if i == \"Height\":\n",
    "        break\n",
    "    print(i)"
   ]
  },
  {
   "cell_type": "code",
   "execution_count": 81,
   "id": "00ccb516",
   "metadata": {},
   "outputs": [
    {
     "name": "stdout",
     "output_type": "stream",
     "text": [
      "Name\n",
      "Sex\n",
      "Height\n"
     ]
    }
   ],
   "source": [
    "var = [\"Name\",\"Sex\",\"Age\",\"Height\"]\n",
    "for i in var:\n",
    "    if i == \"Age\":\n",
    "        continue\n",
    "    print(i)"
   ]
  },
  {
   "cell_type": "code",
   "execution_count": 84,
   "id": "75ca59c1",
   "metadata": {},
   "outputs": [
    {
     "name": "stdout",
     "output_type": "stream",
     "text": [
      "4\n"
     ]
    }
   ],
   "source": [
    "var = [\"Name\",\"Sex\",\"Age\",\"Height\"]\n",
    "count = 0\n",
    "for n in var:\n",
    "    count = count + 1\n",
    "print(count)"
   ]
  },
  {
   "cell_type": "code",
   "execution_count": 86,
   "id": "dbc81b17",
   "metadata": {},
   "outputs": [
    {
     "data": {
      "text/plain": [
       "4"
      ]
     },
     "execution_count": 86,
     "metadata": {},
     "output_type": "execute_result"
    }
   ],
   "source": [
    "len(var)"
   ]
  },
  {
   "cell_type": "code",
   "execution_count": 102,
   "id": "f5f65ed3",
   "metadata": {},
   "outputs": [
    {
     "name": "stdout",
     "output_type": "stream",
     "text": [
      "The sum is  268\n",
      "The average is  7\n"
     ]
    }
   ],
   "source": [
    "num = [23,56,45,34,67,4,5,34]\n",
    "sum = 0\n",
    "for n in num:\n",
    "    sum = sum + n\n",
    "print(\"The sum is \",sum)\n",
    "print(\"The average is \",int(sum/n))"
   ]
  },
  {
   "cell_type": "code",
   "execution_count": 121,
   "id": "e8e9d2a6",
   "metadata": {},
   "outputs": [
    {
     "name": "stdout",
     "output_type": "stream",
     "text": [
      "45\n",
      "65\n",
      "5\n",
      "40\n",
      "100\n"
     ]
    }
   ],
   "source": [
    "num = [23,56,45,34,65,4,5,40,100]\n",
    "for n in num:\n",
    "    if n%5 == 0:\n",
    "        print(n)"
   ]
  },
  {
   "cell_type": "code",
   "execution_count": 124,
   "id": "0d8d828f",
   "metadata": {},
   "outputs": [
    {
     "name": "stdout",
     "output_type": "stream",
     "text": [
      "[23, 56, 45, 34, 65, 4, 5, 40, 100]\n"
     ]
    }
   ],
   "source": [
    "num = [23,56,45,34,65,4,5,40,100]\n",
    "num2 = []\n",
    "for n in num:\n",
    "    num2.append(n)\n",
    "print(num2)"
   ]
  },
  {
   "cell_type": "code",
   "execution_count": 135,
   "id": "ffc2d422",
   "metadata": {},
   "outputs": [
    {
     "name": "stdout",
     "output_type": "stream",
     "text": [
      "165\n"
     ]
    }
   ],
   "source": [
    "num = [23,56,45,34,165,4,5,40,100]\n",
    "max = 0\n",
    "for n in num:\n",
    "    if (n>max):\n",
    "        max = n\n",
    "print(max)\n",
    "    "
   ]
  },
  {
   "cell_type": "code",
   "execution_count": 144,
   "id": "9e1435a0",
   "metadata": {},
   "outputs": [
    {
     "ename": "SyntaxError",
     "evalue": "invalid syntax (1561428734.py, line 5)",
     "output_type": "error",
     "traceback": [
      "\u001b[1;36m  Cell \u001b[1;32mIn[144], line 5\u001b[1;36m\u001b[0m\n\u001b[1;33m    if character.is.alphabets():\u001b[0m\n\u001b[1;37m                 ^\u001b[0m\n\u001b[1;31mSyntaxError\u001b[0m\u001b[1;31m:\u001b[0m invalid syntax\n"
     ]
    }
   ],
   "source": [
    "word = mahmud1234tk\n",
    "alphabets = 0\n",
    "digits = 0\n",
    "for character in word:\n",
    "    if character.is.alphabets():\n",
    "        alphabets = alphabets + 1\n",
    "    elif character.is.digits():\n",
    "        digits = digits + 1\n",
    "print(\"The number of alphabets is\",alphabets)\n",
    "print(\"The number of digits is\",digits)"
   ]
  },
  {
   "cell_type": "code",
   "execution_count": 147,
   "id": "e4ad12bb",
   "metadata": {},
   "outputs": [
    {
     "name": "stdout",
     "output_type": "stream",
     "text": [
      "n\n"
     ]
    }
   ],
   "source": [
    "i = idris\n",
    "print(i[-1])"
   ]
  },
  {
   "cell_type": "code",
   "execution_count": 153,
   "id": "c1aba72b",
   "metadata": {},
   "outputs": [
    {
     "name": "stdout",
     "output_type": "stream",
     "text": [
      "('Nigeria', 'Abuja')\n",
      "('Ghana', 'Accra')\n"
     ]
    }
   ],
   "source": [
    "countries = [\"Nigeria\",\"Ghana\"]\n",
    "capital = [\"Abuja\",\"Accra\"]\n",
    "for i in zip(countries,capital):\n",
    "    print(i)"
   ]
  },
  {
   "cell_type": "code",
   "execution_count": 155,
   "id": "f91ab4ca",
   "metadata": {},
   "outputs": [
    {
     "data": {
      "text/plain": [
       "3"
      ]
     },
     "execution_count": 155,
     "metadata": {},
     "output_type": "execute_result"
    }
   ],
   "source": [
    "d = (\"Idris\",34,\"M\")\n",
    "len(d)"
   ]
  },
  {
   "cell_type": "code",
   "execution_count": 156,
   "id": "e89ee75c",
   "metadata": {},
   "outputs": [
    {
     "ename": "SyntaxError",
     "evalue": "expected ':' (352696640.py, line 1)",
     "output_type": "error",
     "traceback": [
      "\u001b[1;36m  Cell \u001b[1;32mIn[156], line 1\u001b[1;36m\u001b[0m\n\u001b[1;33m    def word_count(word,t)\u001b[0m\n\u001b[1;37m                          ^\u001b[0m\n\u001b[1;31mSyntaxError\u001b[0m\u001b[1;31m:\u001b[0m expected ':'\n"
     ]
    }
   ],
   "source": [
    "blog = \"\"\"Hadoop is a powerful open-source framework designed to manage and process\n",
    "large volumes of data across clusters of computers. Its fundamental\n",
    "function lies in addressing the challenges posed by big data, which\n",
    "encompasses massive amounts of information that traditional systems \n",
    "struggle to handle efficiently.\n",
    "One key element of Hadoop is its distributed file system,\n",
    "known as HDFS (Hadoop Distributed File System).\n",
    "HDFS divides data into smaller chunks, \n",
    "replicates and distributes these across multiple machines within a cluster.\n",
    "This distribution enables parallel processing, allowing for faster data retrieval and analysis.\n",
    "\"\"\"\n",
    "word = process"
   ]
  },
  {
   "cell_type": "code",
   "execution_count": 158,
   "id": "0871c681",
   "metadata": {},
   "outputs": [
    {
     "data": {
      "text/plain": [
       "3"
      ]
     },
     "execution_count": 158,
     "metadata": {},
     "output_type": "execute_result"
    }
   ],
   "source": [
    "sample_text = \"We love python for data science. #python. Python\"\n",
    "word = \"python\"\n",
    "\n",
    "\n",
    "def word_count(word,text):\n",
    "    return text.lower().count(word)\n",
    "\n",
    "word_count(word,sample_text)\n"
   ]
  },
  {
   "cell_type": "code",
   "execution_count": 163,
   "id": "13542add",
   "metadata": {},
   "outputs": [
    {
     "data": {
      "text/plain": [
       "[('python', 3), ('data', 1), ('.', 2)]"
      ]
     },
     "execution_count": 163,
     "metadata": {},
     "output_type": "execute_result"
    }
   ],
   "source": [
    "sample_text = \"We love python for data science. #python. Python\"\n",
    "words = [\"python\",\"data\",\".\"]\n",
    "counter = []\n",
    "def word_count(words,text):\n",
    "    return text.lower().count(words)\n",
    "for word in words:\n",
    "    occurrence = word_count(word,sample_text)\n",
    "    counter.append(occurrence)\n",
    "list(zip(words,counter))"
   ]
  },
  {
   "cell_type": "code",
   "execution_count": null,
   "id": "42327e71",
   "metadata": {},
   "outputs": [],
   "source": [
    "A = {2,4,6,8,5,5,3,6,34}"
   ]
  }
 ],
 "metadata": {
  "kernelspec": {
   "display_name": "Python 3 (ipykernel)",
   "language": "python",
   "name": "python3"
  },
  "language_info": {
   "codemirror_mode": {
    "name": "ipython",
    "version": 3
   },
   "file_extension": ".py",
   "mimetype": "text/x-python",
   "name": "python",
   "nbconvert_exporter": "python",
   "pygments_lexer": "ipython3",
   "version": "3.11.4"
  }
 },
 "nbformat": 4,
 "nbformat_minor": 5
}
